{
 "cells": [
  {
   "cell_type": "markdown",
   "metadata": {
    "id": "vmLpZSIj1LVr"
   },
   "source": [
    "# **Question 2**"
   ]
  },
  {
   "cell_type": "markdown",
   "metadata": {
    "id": "Y4w3YmEi6UNX"
   },
   "source": [
    "**(a) Given a news article with the following text content, extract and display the sentences found in\n",
    "the article.**"
   ]
  },
  {
   "cell_type": "code",
   "execution_count": 1,
   "metadata": {},
   "outputs": [],
   "source": [
    "%%capture\n",
    "!pip install lxml\n",
    "!pip install beautifulsoup4"
   ]
  },
  {
   "cell_type": "code",
   "execution_count": 2,
   "metadata": {
    "executionInfo": {
     "elapsed": 15,
     "status": "ok",
     "timestamp": 1679372217620,
     "user": {
      "displayName": "Yow Si Tian",
      "userId": "04410998738725330930"
     },
     "user_tz": -480
    },
    "id": "CxK5fwYD1A65"
   },
   "outputs": [],
   "source": [
    "import re\n",
    "from bs4 import BeautifulSoup\n",
    "import pandas as pd"
   ]
  },
  {
   "cell_type": "code",
   "execution_count": 3,
   "metadata": {
    "executionInfo": {
     "elapsed": 15,
     "status": "ok",
     "timestamp": 1679372217621,
     "user": {
      "displayName": "Yow Si Tian",
      "userId": "04410998738725330930"
     },
     "user_tz": -480
    },
    "id": "hwuyleGEzJtX"
   },
   "outputs": [],
   "source": [
    "text = \"\"\"\n",
    "<p>SINGAPORE, 23 November 2021: Scoot joins other Singapore and\\nKuala Lumpur-based\n",
    "airlines flying the Vaccinated Travel Lane by announcing a\\nfour-times-weekly service starting 29\n",
    "November.</p>\\n\\n\\n\\n<p>Scoot&#8217;s designated VTL flights, TR472/TR473\n",
    "between\\nSingapore, Changi Airport and KL, KLIA2, will be operated by Scoot&#8217;s Boeing\n",
    "787\\nDreamliners, promising the added widebody comfort in both economy and\n",
    "ScootPlus\\ncabins.</p>\\n\\n\\n\\n<div class=\\\"wp-block-image\\\"><figure\n",
    "class=\\\"aligncenter\\\"><img src=\\\"https://www.ttrweekly.com/site/wpcontent/uploads/2018/11/scoot-600x400.jpg\\\" alt=\\\"\\\" class=\\\"wp-image-152230\\\"\n",
    "srcset=\\\"https://www.ttrweekly.com/site/wp-content/uploads/2018/11/scoot-600x400.jpg 600w,\n",
    "https://www.ttrweekly.com/site/wp-content/uploads/2018/11/scoot-300x200.jpg 300w,\n",
    "https://www.ttrweekly.com/site/wp-content/uploads/2018/11/scoot-768x512.jpg 768w,\n",
    "https://www.ttrweekly.com/site/wp-content/uploads/2018/11/scoot-696x464.jpg 696w,\n",
    "https://www.ttrweekly.com/site/wp-content/uploads/2018/11/scoot-1068x712.jpg 1068w, \n",
    "https://www.ttrweekly.com/site/wp-content/uploads/2018/11/scoot-630x420.jpg 630w,\n",
    "https://www.ttrweekly.com/site/wp-content/uploads/2018/11/scoot.jpg 1536w\\\" sizes=\\\"(maxwidth: 600px) 100vw, 600px\\\" /></figure></div>\\n\\n\\n\\n<p>Scoot will also be operating seven\n",
    "non-designated VTL\\nflights between Singapore and Kuala Lumpur on Scoot&#8217;s Airbus A320\n",
    "aircraft to\\nprovide for transit passengers connecting to and from Scoot&#8217;s network\n",
    "via\\nSingapore.</p>\\n\\n\\n\\n<p>In addition, Scoot is planning to resume flights to\n",
    "Langkawi\\nfrom 3 December as part of the island&#8217;s air travel bubble arrangement,\n",
    "providing\\nquarantine-free travel to foreign visitors, subject to each\n",
    "country&#8217;s\\nrequirements.</p>\\n\\n\\n\\n<p>From early December, the airline will increase\n",
    "flights to\\nIpoh from the current five-times weekly to daily and add a third frequency\n",
    "to\\nKuching, subject to regulatory approvals. Scoot currently also operates daily\\nservices\n",
    "between Singapore and Penang.</p>\\n\\n\\n\\n<p>The commencement of VTL flights between\n",
    "Singapore and KL\\nadds to Scoot\\u2019s existing VTL routes between Singapore and Australia,\n",
    "Berlin,\\nSouth Korea, and effective 6 December 2021, Jeddah. </p>\\n\\n\\n\\n<p>Travellers should\n",
    "always check prevailing eligibility and\\nentry requirements to Singapore and Malaysia before\n",
    "booking VTL flights.</p>\n",
    "\"\"\""
   ]
  },
  {
   "cell_type": "code",
   "execution_count": 4,
   "metadata": {
    "colab": {
     "base_uri": "https://localhost:8080/"
    },
    "executionInfo": {
     "elapsed": 14,
     "status": "ok",
     "timestamp": 1679372217621,
     "user": {
      "displayName": "Yow Si Tian",
      "userId": "04410998738725330930"
     },
     "user_tz": -480
    },
    "id": "50ga2WNd5RcP",
    "outputId": "cfed709f-7075-405f-8519-fe3f53773725"
   },
   "outputs": [
    {
     "name": "stdout",
     "output_type": "stream",
     "text": [
      "SINGAPORE, 23 November 2021: Scoot joins other Singapore and Kuala Lumpur-based airlines flying the Vaccinated Travel Lane by announcing a four-times-weekly service starting 29 November. Scoot’s designated VTL flights, TR472/TR473 between Singapore, Changi Airport and KL, KLIA2, will be operated by Scoot’s Boeing 787 Dreamliners, promising the added widebody comfort in both economy and ScootPlus cabins.  Scoot will also be operating seven non-designated VTL flights between Singapore and Kuala Lumpur on Scoot’s Airbus A320 aircraft to provide for transit passengers connecting to and from Scoot’s network via Singapore. In addition, Scoot is planning to resume flights to Langkawi from 3 December as part of the island’s air travel bubble arrangement, providing quarantine-free travel to foreign visitors, subject to each country’s requirements. From early December, the airline will increase flights to Ipoh from the current five-times weekly to daily and add a third frequency to Kuching, subject to regulatory approvals. Scoot currently also operates daily services between Singapore and Penang. The commencement of VTL flights between Singapore and KL adds to Scoot’s existing VTL routes between Singapore and Australia, Berlin, South Korea, and effective 6 December 2021, Jeddah.  Travellers should always check prevailing eligibility and entry requirements to Singapore and Malaysia before booking VTL flights. \n"
     ]
    }
   ],
   "source": [
    "result = BeautifulSoup(text, 'lxml').text\n",
    "result = re.sub(r\"\\n\", \" \", result)\n",
    "print(result)"
   ]
  },
  {
   "cell_type": "markdown",
   "metadata": {
    "id": "AQ6ygo8I6auW"
   },
   "source": [
    "**(b) Use any NLP library such as spaCy or NLTK to extract locations mentioned in the above article.**"
   ]
  },
  {
   "cell_type": "code",
   "execution_count": 5,
   "metadata": {
    "executionInfo": {
     "elapsed": 12,
     "status": "ok",
     "timestamp": 1679372217621,
     "user": {
      "displayName": "Yow Si Tian",
      "userId": "04410998738725330930"
     },
     "user_tz": -480
    },
    "id": "_lFuJcMX76Hl"
   },
   "outputs": [],
   "source": [
    "import spacy"
   ]
  },
  {
   "cell_type": "code",
   "execution_count": 6,
   "metadata": {
    "executionInfo": {
     "elapsed": 548,
     "status": "ok",
     "timestamp": 1679372218157,
     "user": {
      "displayName": "Yow Si Tian",
      "userId": "04410998738725330930"
     },
     "user_tz": -480
    },
    "id": "BFenJJHH7019"
   },
   "outputs": [],
   "source": [
    "NER = spacy.load(\"en_core_web_sm\")"
   ]
  },
  {
   "cell_type": "code",
   "execution_count": 7,
   "metadata": {
    "executionInfo": {
     "elapsed": 14,
     "status": "ok",
     "timestamp": 1679372218157,
     "user": {
      "displayName": "Yow Si Tian",
      "userId": "04410998738725330930"
     },
     "user_tz": -480
    },
    "id": "MyJpxGLa6gIr"
   },
   "outputs": [],
   "source": [
    "def ner_with_label(word):\n",
    "    return (word.text, word.label_, word.start_char)\n",
    "\n",
    "def named_entity_recognization_text(text):\n",
    "    text_spacy = NER(text)\n",
    "    ner_word = map(ner_with_label, text_spacy.ents)\n",
    "    return list(ner_word)\n",
    "\n",
    "ori_ner_text_result = named_entity_recognization_text(result)"
   ]
  },
  {
   "cell_type": "code",
   "execution_count": 8,
   "metadata": {
    "colab": {
     "base_uri": "https://localhost:8080/",
     "height": 613
    },
    "executionInfo": {
     "elapsed": 14,
     "status": "ok",
     "timestamp": 1679372218157,
     "user": {
      "displayName": "Yow Si Tian",
      "userId": "04410998738725330930"
     },
     "user_tz": -480
    },
    "id": "c1ReB-gHCSCs",
    "outputId": "c3091e5c-75f1-40e5-b74b-ae639ab7f8e0"
   },
   "outputs": [
    {
     "data": {
      "text/html": [
       "<div>\n",
       "<style scoped>\n",
       "    .dataframe tbody tr th:only-of-type {\n",
       "        vertical-align: middle;\n",
       "    }\n",
       "\n",
       "    .dataframe tbody tr th {\n",
       "        vertical-align: top;\n",
       "    }\n",
       "\n",
       "    .dataframe thead th {\n",
       "        text-align: right;\n",
       "    }\n",
       "</style>\n",
       "<table border=\"1\" class=\"dataframe\">\n",
       "  <thead>\n",
       "    <tr style=\"text-align: right;\">\n",
       "      <th></th>\n",
       "      <th>locations</th>\n",
       "      <th>index</th>\n",
       "    </tr>\n",
       "  </thead>\n",
       "  <tbody>\n",
       "    <tr>\n",
       "      <th>0</th>\n",
       "      <td>SINGAPORE</td>\n",
       "      <td>0</td>\n",
       "    </tr>\n",
       "    <tr>\n",
       "      <th>1</th>\n",
       "      <td>Singapore</td>\n",
       "      <td>47</td>\n",
       "    </tr>\n",
       "    <tr>\n",
       "      <th>2</th>\n",
       "      <td>Kuala Lumpur</td>\n",
       "      <td>61</td>\n",
       "    </tr>\n",
       "    <tr>\n",
       "      <th>3</th>\n",
       "      <td>Singapore</td>\n",
       "      <td>239</td>\n",
       "    </tr>\n",
       "    <tr>\n",
       "      <th>4</th>\n",
       "      <td>Singapore</td>\n",
       "      <td>478</td>\n",
       "    </tr>\n",
       "    <tr>\n",
       "      <th>5</th>\n",
       "      <td>Kuala Lumpur</td>\n",
       "      <td>492</td>\n",
       "    </tr>\n",
       "    <tr>\n",
       "      <th>6</th>\n",
       "      <td>Singapore</td>\n",
       "      <td>614</td>\n",
       "    </tr>\n",
       "    <tr>\n",
       "      <th>7</th>\n",
       "      <td>Ipoh</td>\n",
       "      <td>909</td>\n",
       "    </tr>\n",
       "    <tr>\n",
       "      <th>8</th>\n",
       "      <td>Singapore</td>\n",
       "      <td>1082</td>\n",
       "    </tr>\n",
       "    <tr>\n",
       "      <th>9</th>\n",
       "      <td>Penang</td>\n",
       "      <td>1096</td>\n",
       "    </tr>\n",
       "    <tr>\n",
       "      <th>10</th>\n",
       "      <td>Singapore</td>\n",
       "      <td>1144</td>\n",
       "    </tr>\n",
       "    <tr>\n",
       "      <th>11</th>\n",
       "      <td>Singapore</td>\n",
       "      <td>1205</td>\n",
       "    </tr>\n",
       "    <tr>\n",
       "      <th>12</th>\n",
       "      <td>Australia</td>\n",
       "      <td>1219</td>\n",
       "    </tr>\n",
       "    <tr>\n",
       "      <th>13</th>\n",
       "      <td>Berlin</td>\n",
       "      <td>1230</td>\n",
       "    </tr>\n",
       "    <tr>\n",
       "      <th>14</th>\n",
       "      <td>South Korea</td>\n",
       "      <td>1238</td>\n",
       "    </tr>\n",
       "    <tr>\n",
       "      <th>15</th>\n",
       "      <td>Jeddah</td>\n",
       "      <td>1282</td>\n",
       "    </tr>\n",
       "    <tr>\n",
       "      <th>16</th>\n",
       "      <td>Singapore</td>\n",
       "      <td>1371</td>\n",
       "    </tr>\n",
       "    <tr>\n",
       "      <th>17</th>\n",
       "      <td>Malaysia</td>\n",
       "      <td>1385</td>\n",
       "    </tr>\n",
       "  </tbody>\n",
       "</table>\n",
       "</div>"
      ],
      "text/plain": [
       "       locations  index\n",
       "0      SINGAPORE      0\n",
       "1      Singapore     47\n",
       "2   Kuala Lumpur     61\n",
       "3      Singapore    239\n",
       "4      Singapore    478\n",
       "5   Kuala Lumpur    492\n",
       "6      Singapore    614\n",
       "7           Ipoh    909\n",
       "8      Singapore   1082\n",
       "9         Penang   1096\n",
       "10     Singapore   1144\n",
       "11     Singapore   1205\n",
       "12     Australia   1219\n",
       "13        Berlin   1230\n",
       "14   South Korea   1238\n",
       "15        Jeddah   1282\n",
       "16     Singapore   1371\n",
       "17      Malaysia   1385"
      ]
     },
     "execution_count": 8,
     "metadata": {},
     "output_type": "execute_result"
    }
   ],
   "source": [
    "accepted_entities = [\"GPE\", \"LOC\"]\n",
    "ner_text_result = [(i[0], i[2]) for i in ori_ner_text_result if i[1] in accepted_entities]\n",
    "\n",
    "d2 = {'locations': [i[0] for i in ner_text_result], 'index': [i[1] for i in ner_text_result]}\n",
    "df2 = pd.DataFrame(data=d2)\n",
    "\n",
    "df2"
   ]
  },
  {
   "cell_type": "markdown",
   "metadata": {
    "id": "1EORA8BGBNTW"
   },
   "source": [
    "**(c) Calculate the precision, recall, and F1 score for location extraction in (b)**"
   ]
  },
  {
   "cell_type": "markdown",
   "metadata": {
    "id": "2OfsVcyd0E4g"
   },
   "source": [
    "In this case, we assume that there are only 2 classes, which are 'location' and 'non-location'. \n",
    "\n",
    "*   True Positive cases belong to the words/phrases that are correctly identified as 'location';\n",
    "*   False Positive cases belong to the words/phrases that are incorrectly identified as 'location';\n",
    "*   True Negative cases belong to the words/phrases that are correctly identified as 'non-location';\n",
    "*   False Negative cases belong to the words/phrases that are incorrectly identified as 'non-location'\n",
    "\n",
    "\n",
    "\n"
   ]
  },
  {
   "cell_type": "code",
   "execution_count": 9,
   "metadata": {
    "executionInfo": {
     "elapsed": 12,
     "status": "ok",
     "timestamp": 1679372218158,
     "user": {
      "displayName": "Yow Si Tian",
      "userId": "04410998738725330930"
     },
     "user_tz": -480
    },
    "id": "AgDG5Pv6XdqS"
   },
   "outputs": [],
   "source": [
    "# ground truth consists of the locations that human can detect an the respective indices\n",
    "ground_truth = [\n",
    "    (\"SINGAPORE\", 0),\n",
    "    (\"Singapore\", 239),\n",
    "    (\"Changi Airport\", 250),\n",
    "    (\"KL\", 269),\n",
    "    (\"KLIA2\", 273),\n",
    "    (\"Singapore\", 478),\n",
    "    (\"Kuala Lumpur\",492),\n",
    "    (\"Singapore\", 614),\n",
    "    (\"Langkawi\", 677),\n",
    "    (\"Ipoh\", 909),\n",
    "    (\"Kuching\", 987),\n",
    "    (\"Singapore\", 1082),\n",
    "    (\"Penang\", 1096),\n",
    "    (\"Singapore\", 1144),\n",
    "    (\"KL\", 1158),\n",
    "    (\"Singapore\", 1205),\n",
    "    (\"Australia\", 1219),\n",
    "    (\"Berlin\", 1230),\n",
    "    (\"South Korea\", 1238),\n",
    "    (\"Jeddah\", 1282),\n",
    "    (\"Singapore\", 1371),\n",
    "    (\"Malaysia\", 1385)\n",
    "]"
   ]
  },
  {
   "cell_type": "code",
   "execution_count": 10,
   "metadata": {
    "colab": {
     "base_uri": "https://localhost:8080/",
     "height": 1000
    },
    "executionInfo": {
     "elapsed": 11,
     "status": "ok",
     "timestamp": 1679372218158,
     "user": {
      "displayName": "Yow Si Tian",
      "userId": "04410998738725330930"
     },
     "user_tz": -480
    },
    "id": "_U9ofoFpMRZ7",
    "outputId": "4c7143cc-6d78-42b8-9fae-b46aadb7f92f"
   },
   "outputs": [
    {
     "data": {
      "text/html": [
       "<div>\n",
       "<style scoped>\n",
       "    .dataframe tbody tr th:only-of-type {\n",
       "        vertical-align: middle;\n",
       "    }\n",
       "\n",
       "    .dataframe tbody tr th {\n",
       "        vertical-align: top;\n",
       "    }\n",
       "\n",
       "    .dataframe thead th {\n",
       "        text-align: right;\n",
       "    }\n",
       "</style>\n",
       "<table border=\"1\" class=\"dataframe\">\n",
       "  <thead>\n",
       "    <tr style=\"text-align: right;\">\n",
       "      <th></th>\n",
       "      <th>text/phrase</th>\n",
       "      <th>index</th>\n",
       "      <th>predicted class</th>\n",
       "      <th>ground truth</th>\n",
       "    </tr>\n",
       "  </thead>\n",
       "  <tbody>\n",
       "    <tr>\n",
       "      <th>0</th>\n",
       "      <td>SINGAPORE</td>\n",
       "      <td>0</td>\n",
       "      <td>Location</td>\n",
       "      <td>Location</td>\n",
       "    </tr>\n",
       "    <tr>\n",
       "      <th>1</th>\n",
       "      <td>23 November 2021</td>\n",
       "      <td>11</td>\n",
       "      <td>Non-location</td>\n",
       "      <td>Non-location</td>\n",
       "    </tr>\n",
       "    <tr>\n",
       "      <th>2</th>\n",
       "      <td>Singapore</td>\n",
       "      <td>47</td>\n",
       "      <td>Location</td>\n",
       "      <td>Non-location</td>\n",
       "    </tr>\n",
       "    <tr>\n",
       "      <th>3</th>\n",
       "      <td>Kuala Lumpur</td>\n",
       "      <td>61</td>\n",
       "      <td>Location</td>\n",
       "      <td>Non-location</td>\n",
       "    </tr>\n",
       "    <tr>\n",
       "      <th>4</th>\n",
       "      <td>the Vaccinated Travel Lane</td>\n",
       "      <td>96</td>\n",
       "      <td>Non-location</td>\n",
       "      <td>Non-location</td>\n",
       "    </tr>\n",
       "    <tr>\n",
       "      <th>5</th>\n",
       "      <td>four</td>\n",
       "      <td>139</td>\n",
       "      <td>Non-location</td>\n",
       "      <td>Non-location</td>\n",
       "    </tr>\n",
       "    <tr>\n",
       "      <th>6</th>\n",
       "      <td>29 November</td>\n",
       "      <td>174</td>\n",
       "      <td>Non-location</td>\n",
       "      <td>Non-location</td>\n",
       "    </tr>\n",
       "    <tr>\n",
       "      <th>7</th>\n",
       "      <td>Scoot</td>\n",
       "      <td>187</td>\n",
       "      <td>Non-location</td>\n",
       "      <td>Non-location</td>\n",
       "    </tr>\n",
       "    <tr>\n",
       "      <th>8</th>\n",
       "      <td>VTL</td>\n",
       "      <td>206</td>\n",
       "      <td>Non-location</td>\n",
       "      <td>Non-location</td>\n",
       "    </tr>\n",
       "    <tr>\n",
       "      <th>9</th>\n",
       "      <td>TR472/TR473</td>\n",
       "      <td>219</td>\n",
       "      <td>Non-location</td>\n",
       "      <td>Non-location</td>\n",
       "    </tr>\n",
       "    <tr>\n",
       "      <th>10</th>\n",
       "      <td>Singapore</td>\n",
       "      <td>239</td>\n",
       "      <td>Location</td>\n",
       "      <td>Location</td>\n",
       "    </tr>\n",
       "    <tr>\n",
       "      <th>11</th>\n",
       "      <td>Changi Airport</td>\n",
       "      <td>250</td>\n",
       "      <td>Non-location</td>\n",
       "      <td>Location</td>\n",
       "    </tr>\n",
       "    <tr>\n",
       "      <th>12</th>\n",
       "      <td>KL</td>\n",
       "      <td>269</td>\n",
       "      <td>Non-location</td>\n",
       "      <td>Location</td>\n",
       "    </tr>\n",
       "    <tr>\n",
       "      <th>13</th>\n",
       "      <td>KLIA2</td>\n",
       "      <td>273</td>\n",
       "      <td>Non-location</td>\n",
       "      <td>Location</td>\n",
       "    </tr>\n",
       "    <tr>\n",
       "      <th>14</th>\n",
       "      <td>Scoot</td>\n",
       "      <td>300</td>\n",
       "      <td>Non-location</td>\n",
       "      <td>Non-location</td>\n",
       "    </tr>\n",
       "    <tr>\n",
       "      <th>15</th>\n",
       "      <td>Boeing</td>\n",
       "      <td>308</td>\n",
       "      <td>Non-location</td>\n",
       "      <td>Non-location</td>\n",
       "    </tr>\n",
       "    <tr>\n",
       "      <th>16</th>\n",
       "      <td>787 Dreamliners</td>\n",
       "      <td>315</td>\n",
       "      <td>Non-location</td>\n",
       "      <td>Non-location</td>\n",
       "    </tr>\n",
       "    <tr>\n",
       "      <th>17</th>\n",
       "      <td>Scoot</td>\n",
       "      <td>408</td>\n",
       "      <td>Non-location</td>\n",
       "      <td>Non-location</td>\n",
       "    </tr>\n",
       "    <tr>\n",
       "      <th>18</th>\n",
       "      <td>seven</td>\n",
       "      <td>437</td>\n",
       "      <td>Non-location</td>\n",
       "      <td>Non-location</td>\n",
       "    </tr>\n",
       "    <tr>\n",
       "      <th>19</th>\n",
       "      <td>VTL</td>\n",
       "      <td>458</td>\n",
       "      <td>Non-location</td>\n",
       "      <td>Non-location</td>\n",
       "    </tr>\n",
       "    <tr>\n",
       "      <th>20</th>\n",
       "      <td>Singapore</td>\n",
       "      <td>478</td>\n",
       "      <td>Location</td>\n",
       "      <td>Location</td>\n",
       "    </tr>\n",
       "    <tr>\n",
       "      <th>21</th>\n",
       "      <td>Kuala Lumpur</td>\n",
       "      <td>492</td>\n",
       "      <td>Location</td>\n",
       "      <td>Location</td>\n",
       "    </tr>\n",
       "    <tr>\n",
       "      <th>22</th>\n",
       "      <td>Airbus</td>\n",
       "      <td>516</td>\n",
       "      <td>Non-location</td>\n",
       "      <td>Non-location</td>\n",
       "    </tr>\n",
       "    <tr>\n",
       "      <th>23</th>\n",
       "      <td>A320</td>\n",
       "      <td>523</td>\n",
       "      <td>Non-location</td>\n",
       "      <td>Non-location</td>\n",
       "    </tr>\n",
       "    <tr>\n",
       "      <th>24</th>\n",
       "      <td>Scoot</td>\n",
       "      <td>594</td>\n",
       "      <td>Non-location</td>\n",
       "      <td>Non-location</td>\n",
       "    </tr>\n",
       "    <tr>\n",
       "      <th>25</th>\n",
       "      <td>Singapore</td>\n",
       "      <td>614</td>\n",
       "      <td>Location</td>\n",
       "      <td>Location</td>\n",
       "    </tr>\n",
       "    <tr>\n",
       "      <th>26</th>\n",
       "      <td>Scoot</td>\n",
       "      <td>638</td>\n",
       "      <td>Non-location</td>\n",
       "      <td>Non-location</td>\n",
       "    </tr>\n",
       "    <tr>\n",
       "      <th>27</th>\n",
       "      <td>Langkawi</td>\n",
       "      <td>677</td>\n",
       "      <td>Non-location</td>\n",
       "      <td>Location</td>\n",
       "    </tr>\n",
       "    <tr>\n",
       "      <th>28</th>\n",
       "      <td>3 December</td>\n",
       "      <td>691</td>\n",
       "      <td>Non-location</td>\n",
       "      <td>Non-location</td>\n",
       "    </tr>\n",
       "    <tr>\n",
       "      <th>29</th>\n",
       "      <td>early December</td>\n",
       "      <td>856</td>\n",
       "      <td>Non-location</td>\n",
       "      <td>Non-location</td>\n",
       "    </tr>\n",
       "    <tr>\n",
       "      <th>30</th>\n",
       "      <td>Ipoh</td>\n",
       "      <td>909</td>\n",
       "      <td>Location</td>\n",
       "      <td>Location</td>\n",
       "    </tr>\n",
       "    <tr>\n",
       "      <th>31</th>\n",
       "      <td>five</td>\n",
       "      <td>931</td>\n",
       "      <td>Non-location</td>\n",
       "      <td>Non-location</td>\n",
       "    </tr>\n",
       "    <tr>\n",
       "      <th>32</th>\n",
       "      <td>weekly</td>\n",
       "      <td>942</td>\n",
       "      <td>Non-location</td>\n",
       "      <td>Non-location</td>\n",
       "    </tr>\n",
       "    <tr>\n",
       "      <th>33</th>\n",
       "      <td>daily</td>\n",
       "      <td>952</td>\n",
       "      <td>Non-location</td>\n",
       "      <td>Non-location</td>\n",
       "    </tr>\n",
       "    <tr>\n",
       "      <th>34</th>\n",
       "      <td>third</td>\n",
       "      <td>968</td>\n",
       "      <td>Non-location</td>\n",
       "      <td>Non-location</td>\n",
       "    </tr>\n",
       "    <tr>\n",
       "      <th>35</th>\n",
       "      <td>Kuching</td>\n",
       "      <td>987</td>\n",
       "      <td>Non-location</td>\n",
       "      <td>Location</td>\n",
       "    </tr>\n",
       "    <tr>\n",
       "      <th>36</th>\n",
       "      <td>daily</td>\n",
       "      <td>1059</td>\n",
       "      <td>Non-location</td>\n",
       "      <td>Non-location</td>\n",
       "    </tr>\n",
       "    <tr>\n",
       "      <th>37</th>\n",
       "      <td>Singapore</td>\n",
       "      <td>1082</td>\n",
       "      <td>Location</td>\n",
       "      <td>Location</td>\n",
       "    </tr>\n",
       "    <tr>\n",
       "      <th>38</th>\n",
       "      <td>Penang</td>\n",
       "      <td>1096</td>\n",
       "      <td>Location</td>\n",
       "      <td>Location</td>\n",
       "    </tr>\n",
       "    <tr>\n",
       "      <th>39</th>\n",
       "      <td>VTL</td>\n",
       "      <td>1124</td>\n",
       "      <td>Non-location</td>\n",
       "      <td>Non-location</td>\n",
       "    </tr>\n",
       "    <tr>\n",
       "      <th>40</th>\n",
       "      <td>Singapore</td>\n",
       "      <td>1144</td>\n",
       "      <td>Location</td>\n",
       "      <td>Location</td>\n",
       "    </tr>\n",
       "    <tr>\n",
       "      <th>41</th>\n",
       "      <td>KL</td>\n",
       "      <td>1158</td>\n",
       "      <td>Non-location</td>\n",
       "      <td>Location</td>\n",
       "    </tr>\n",
       "    <tr>\n",
       "      <th>42</th>\n",
       "      <td>Scoot</td>\n",
       "      <td>1169</td>\n",
       "      <td>Non-location</td>\n",
       "      <td>Non-location</td>\n",
       "    </tr>\n",
       "    <tr>\n",
       "      <th>43</th>\n",
       "      <td>VTL</td>\n",
       "      <td>1186</td>\n",
       "      <td>Non-location</td>\n",
       "      <td>Non-location</td>\n",
       "    </tr>\n",
       "    <tr>\n",
       "      <th>44</th>\n",
       "      <td>Singapore</td>\n",
       "      <td>1205</td>\n",
       "      <td>Location</td>\n",
       "      <td>Location</td>\n",
       "    </tr>\n",
       "    <tr>\n",
       "      <th>45</th>\n",
       "      <td>Australia</td>\n",
       "      <td>1219</td>\n",
       "      <td>Location</td>\n",
       "      <td>Location</td>\n",
       "    </tr>\n",
       "    <tr>\n",
       "      <th>46</th>\n",
       "      <td>Berlin</td>\n",
       "      <td>1230</td>\n",
       "      <td>Location</td>\n",
       "      <td>Location</td>\n",
       "    </tr>\n",
       "    <tr>\n",
       "      <th>47</th>\n",
       "      <td>South Korea</td>\n",
       "      <td>1238</td>\n",
       "      <td>Location</td>\n",
       "      <td>Location</td>\n",
       "    </tr>\n",
       "    <tr>\n",
       "      <th>48</th>\n",
       "      <td>6 December 2021,</td>\n",
       "      <td>1265</td>\n",
       "      <td>Non-location</td>\n",
       "      <td>Non-location</td>\n",
       "    </tr>\n",
       "    <tr>\n",
       "      <th>49</th>\n",
       "      <td>Jeddah</td>\n",
       "      <td>1282</td>\n",
       "      <td>Location</td>\n",
       "      <td>Location</td>\n",
       "    </tr>\n",
       "    <tr>\n",
       "      <th>50</th>\n",
       "      <td>Travellers</td>\n",
       "      <td>1291</td>\n",
       "      <td>Non-location</td>\n",
       "      <td>Non-location</td>\n",
       "    </tr>\n",
       "    <tr>\n",
       "      <th>51</th>\n",
       "      <td>Singapore</td>\n",
       "      <td>1371</td>\n",
       "      <td>Location</td>\n",
       "      <td>Location</td>\n",
       "    </tr>\n",
       "    <tr>\n",
       "      <th>52</th>\n",
       "      <td>Malaysia</td>\n",
       "      <td>1385</td>\n",
       "      <td>Location</td>\n",
       "      <td>Location</td>\n",
       "    </tr>\n",
       "    <tr>\n",
       "      <th>53</th>\n",
       "      <td>VTL</td>\n",
       "      <td>1409</td>\n",
       "      <td>Non-location</td>\n",
       "      <td>Non-location</td>\n",
       "    </tr>\n",
       "  </tbody>\n",
       "</table>\n",
       "</div>"
      ],
      "text/plain": [
       "                   text/phrase  index predicted class  ground truth\n",
       "0                    SINGAPORE      0        Location      Location\n",
       "1             23 November 2021     11    Non-location  Non-location\n",
       "2                    Singapore     47        Location  Non-location\n",
       "3                 Kuala Lumpur     61        Location  Non-location\n",
       "4   the Vaccinated Travel Lane     96    Non-location  Non-location\n",
       "5                         four    139    Non-location  Non-location\n",
       "6                  29 November    174    Non-location  Non-location\n",
       "7                        Scoot    187    Non-location  Non-location\n",
       "8                          VTL    206    Non-location  Non-location\n",
       "9                  TR472/TR473    219    Non-location  Non-location\n",
       "10                   Singapore    239        Location      Location\n",
       "11              Changi Airport    250    Non-location      Location\n",
       "12                          KL    269    Non-location      Location\n",
       "13                       KLIA2    273    Non-location      Location\n",
       "14                       Scoot    300    Non-location  Non-location\n",
       "15                      Boeing    308    Non-location  Non-location\n",
       "16             787 Dreamliners    315    Non-location  Non-location\n",
       "17                       Scoot    408    Non-location  Non-location\n",
       "18                       seven    437    Non-location  Non-location\n",
       "19                         VTL    458    Non-location  Non-location\n",
       "20                   Singapore    478        Location      Location\n",
       "21                Kuala Lumpur    492        Location      Location\n",
       "22                      Airbus    516    Non-location  Non-location\n",
       "23                        A320    523    Non-location  Non-location\n",
       "24                       Scoot    594    Non-location  Non-location\n",
       "25                   Singapore    614        Location      Location\n",
       "26                       Scoot    638    Non-location  Non-location\n",
       "27                    Langkawi    677    Non-location      Location\n",
       "28                  3 December    691    Non-location  Non-location\n",
       "29              early December    856    Non-location  Non-location\n",
       "30                        Ipoh    909        Location      Location\n",
       "31                        five    931    Non-location  Non-location\n",
       "32                      weekly    942    Non-location  Non-location\n",
       "33                       daily    952    Non-location  Non-location\n",
       "34                       third    968    Non-location  Non-location\n",
       "35                     Kuching    987    Non-location      Location\n",
       "36                       daily   1059    Non-location  Non-location\n",
       "37                   Singapore   1082        Location      Location\n",
       "38                      Penang   1096        Location      Location\n",
       "39                         VTL   1124    Non-location  Non-location\n",
       "40                   Singapore   1144        Location      Location\n",
       "41                          KL   1158    Non-location      Location\n",
       "42                       Scoot   1169    Non-location  Non-location\n",
       "43                         VTL   1186    Non-location  Non-location\n",
       "44                   Singapore   1205        Location      Location\n",
       "45                   Australia   1219        Location      Location\n",
       "46                      Berlin   1230        Location      Location\n",
       "47                 South Korea   1238        Location      Location\n",
       "48            6 December 2021,   1265    Non-location  Non-location\n",
       "49                      Jeddah   1282        Location      Location\n",
       "50                  Travellers   1291    Non-location  Non-location\n",
       "51                   Singapore   1371        Location      Location\n",
       "52                    Malaysia   1385        Location      Location\n",
       "53                         VTL   1409    Non-location  Non-location"
      ]
     },
     "execution_count": 10,
     "metadata": {},
     "output_type": "execute_result"
    }
   ],
   "source": [
    "accepted_entities = [\"GPE\", \"LOC\"]\n",
    "final_ner_text_result = [(i[0], i[2], i[1] in accepted_entities) for i in ori_ner_text_result]\n",
    "ground_truth_indices = [i[1] for i in ground_truth]\n",
    "\n",
    "d3 = {'text/phrase': [i[0] for i in final_ner_text_result], \n",
    "      'index': [i[1] for i in final_ner_text_result], \n",
    "      'predicted class': ['Location' if i[2] else 'Non-location' for i in final_ner_text_result],\n",
    "      'ground truth': ['Location' if i[1] in ground_truth_indices else 'Non-location' for i in final_ner_text_result]\n",
    "      }\n",
    "df3 = pd.DataFrame(data=d3)\n",
    "\n",
    "df3"
   ]
  },
  {
   "cell_type": "markdown",
   "metadata": {
    "id": "PwO1M6Jkyn2g"
   },
   "source": [
    "*   Precision = (True Positive) / (False Positive + True Positive)\n",
    "*   Recall = (True Positive) / (True Positive + False Negative)\n",
    "*   F1 score = (2 * Precision * Recall) / (Precision + Recall)\n",
    "\n",
    "\n",
    "\n"
   ]
  },
  {
   "cell_type": "code",
   "execution_count": 11,
   "metadata": {
    "executionInfo": {
     "elapsed": 524,
     "status": "ok",
     "timestamp": 1679377819614,
     "user": {
      "displayName": "Yow Si Tian",
      "userId": "04410998738725330930"
     },
     "user_tz": -480
    },
    "id": "bvbrkbWPtFc4"
   },
   "outputs": [],
   "source": [
    "predicted_locations_indices = [i[1] for i in ner_text_result]"
   ]
  },
  {
   "cell_type": "code",
   "execution_count": 12,
   "metadata": {
    "executionInfo": {
     "elapsed": 3,
     "status": "ok",
     "timestamp": 1679377820130,
     "user": {
      "displayName": "Yow Si Tian",
      "userId": "04410998738725330930"
     },
     "user_tz": -480
    },
    "id": "4RgcL8RXynfX"
   },
   "outputs": [],
   "source": [
    "TP = len([i for i in final_ner_text_result if i[1] in ground_truth_indices])\n",
    "FP = len([i for i in final_ner_text_result if i[2] and i[1] not in ground_truth_indices])\n",
    "TN = len([i for i in final_ner_text_result if not i[2] and i[1] not in ground_truth_indices])\n",
    "FN = len([i for i in ground_truth if i[1] not in predicted_locations_indices])"
   ]
  },
  {
   "cell_type": "code",
   "execution_count": 13,
   "metadata": {
    "executionInfo": {
     "elapsed": 3,
     "status": "ok",
     "timestamp": 1679377820131,
     "user": {
      "displayName": "Yow Si Tian",
      "userId": "04410998738725330930"
     },
     "user_tz": -480
    },
    "id": "y6fVYsMstXEZ"
   },
   "outputs": [],
   "source": [
    "precision = TP / (FP + TP)\n",
    "recall = TP / (TP + FN)\n",
    "f1_score = (2*precision*recall)/(precision+recall)"
   ]
  },
  {
   "cell_type": "code",
   "execution_count": 14,
   "metadata": {
    "colab": {
     "base_uri": "https://localhost:8080/"
    },
    "executionInfo": {
     "elapsed": 3,
     "status": "ok",
     "timestamp": 1679377820131,
     "user": {
      "displayName": "Yow Si Tian",
      "userId": "04410998738725330930"
     },
     "user_tz": -480
    },
    "id": "znmURjZ3tj0O",
    "outputId": "717247d2-1650-4aac-9184-5daa96972a88"
   },
   "outputs": [
    {
     "name": "stdout",
     "output_type": "stream",
     "text": [
      "Precision: 0.92\n",
      "Recall: 0.79\n",
      "F1 Score: 0.85\n"
     ]
    }
   ],
   "source": [
    "print(f\"Precision: {precision:.2f}\")\n",
    "print(f\"Recall: {recall:.2f}\")\n",
    "print(f\"F1 Score: {f1_score:.2f}\")"
   ]
  }
 ],
 "metadata": {
  "colab": {
   "authorship_tag": "ABX9TyOFNgXU0LYN8JAFxd6Uec2k",
   "provenance": []
  },
  "kernelspec": {
   "display_name": "Python 3 (ipykernel)",
   "language": "python",
   "name": "python3"
  },
  "language_info": {
   "codemirror_mode": {
    "name": "ipython",
    "version": 3
   },
   "file_extension": ".py",
   "mimetype": "text/x-python",
   "name": "python",
   "nbconvert_exporter": "python",
   "pygments_lexer": "ipython3",
   "version": "3.9.12"
  }
 },
 "nbformat": 4,
 "nbformat_minor": 1
}
