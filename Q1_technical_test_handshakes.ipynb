{
 "cells": [
  {
   "cell_type": "code",
   "execution_count": 1,
   "metadata": {
    "executionInfo": {
     "elapsed": 698,
     "status": "ok",
     "timestamp": 1679210883130,
     "user": {
      "displayName": "Yow Si Tian",
      "userId": "04410998738725330930"
     },
     "user_tz": -480
    },
    "id": "xtmPsESIeWaT"
   },
   "outputs": [],
   "source": [
    "def check_text_is_substring(palin, result):\n",
    "    result.sort()\n",
    "    \n",
    "    # retain strings which are longer than the detected palindrome \n",
    "    longer_result_arr = [x for x in result if len(x) >= len(palin)]\n",
    "    \n",
    "    # check if the palindrome is a substring\n",
    "    for i in longer_result_arr:\n",
    "        if palin in i:\n",
    "            return True    \n",
    "    return False"
   ]
  },
  {
   "cell_type": "code",
   "execution_count": 2,
   "metadata": {
    "executionInfo": {
     "elapsed": 19,
     "status": "ok",
     "timestamp": 1679210883131,
     "user": {
      "displayName": "Yow Si Tian",
      "userId": "04410998738725330930"
     },
     "user_tz": -480
    },
    "id": "WgKvLk8gh7Mt"
   },
   "outputs": [],
   "source": [
    "def remove_existing_substring(palin, result):\n",
    "    result.sort()\n",
    "    \n",
    "    # retain strings which are shorter than the detected palindrome\n",
    "    shorter_result_arr = [x for x in result if len(x) < len(palin)]\n",
    "    \n",
    "    # remove the substring of the detected palindrome\n",
    "    for i in shorter_result_arr:\n",
    "        if i in palin:\n",
    "            result.remove(i)\n",
    "    return result"
   ]
  },
  {
   "cell_type": "code",
   "execution_count": 3,
   "metadata": {
    "executionInfo": {
     "elapsed": 20,
     "status": "ok",
     "timestamp": 1679210883132,
     "user": {
      "displayName": "Yow Si Tian",
      "userId": "04410998738725330930"
     },
     "user_tz": -480
    },
    "id": "hAzc83Ltk6_7"
   },
   "outputs": [],
   "source": [
    "def find_palindromes(start, end, text, text_length, result_arr):\n",
    "    while start >= 0 and end < text_length and text[start] == text[end]:\n",
    "        palin_text = text[start:end+1]\n",
    "        \n",
    "        if not check_text_is_substring(palin_text, result_arr):\n",
    "            result_arr = remove_existing_substring(palin_text, result_arr)\n",
    "            result_arr.append(palin_text)\n",
    "            \n",
    "        start -= 1\n",
    "        end += 1\n",
    "    return result_arr"
   ]
  },
  {
   "cell_type": "code",
   "execution_count": 4,
   "metadata": {
    "executionInfo": {
     "elapsed": 20,
     "status": "ok",
     "timestamp": 1679210883133,
     "user": {
      "displayName": "Yow Si Tian",
      "userId": "04410998738725330930"
     },
     "user_tz": -480
    },
    "id": "lQm81h2oXVRl"
   },
   "outputs": [],
   "source": [
    "def q1_function(text):\n",
    "\n",
    "    final_results = []\n",
    "    text_length = len(text)\n",
    "    for idx, char in enumerate(text):\n",
    "\n",
    "        # Check for longest odd palindrome(s)\n",
    "        final_results = find_palindromes(idx - 1, idx + 1, text, text_length, final_results)\n",
    "\n",
    "        # Check for longest even palindrome(s)\n",
    "        final_results = find_palindromes(idx, idx + 1, text, text_length, final_results)\n",
    "\n",
    "    final_results.sort(key = len, reverse = True)\n",
    "    return final_results[:3]"
   ]
  },
  {
   "cell_type": "markdown",
   "metadata": {
    "id": "KFIYFqBgpe0I"
   },
   "source": [
    "Test examples shown below"
   ]
  },
  {
   "cell_type": "code",
   "execution_count": 5,
   "metadata": {
    "executionInfo": {
     "elapsed": 20,
     "status": "ok",
     "timestamp": 1679210883133,
     "user": {
      "displayName": "Yow Si Tian",
      "userId": "04410998738725330930"
     },
     "user_tz": -480
    },
    "id": "CVf4K1WApTcA"
   },
   "outputs": [],
   "source": [
    "test_inputs = [\n",
    "    \"agiaehajg32123agaajgak12345654321sasbbqwertytrewqgaga\",\n",
    "    \"12321$#@!12321\",\n",
    "    \"zerimarramirez2343!aoxomoxoa\"\n",
    "]"
   ]
  },
  {
   "cell_type": "code",
   "execution_count": 6,
   "metadata": {},
   "outputs": [
    {
     "name": "stdout",
     "output_type": "stream",
     "text": [
      "Input string:\n",
      "agiaehajg32123agaajgak12345654321sasbbqwertytrewqgaga\n",
      "\n",
      "Output:\n",
      "Palindrome: 12345654321, Index: 22, Length: 11\n",
      "Palindrome: qwertytrewq, Index: 38, Length: 11\n",
      "Palindrome: 32123, Index: 9, Length: 5\n",
      "\n",
      "Input string:\n",
      "12321$#@!12321\n",
      "\n",
      "Output:\n",
      "Palindrome: 12321, Index: 0, Length: 5\n",
      "\n",
      "Input string:\n",
      "zerimarramirez2343!aoxomoxoa\n",
      "\n",
      "Output:\n",
      "Palindrome: zerimarramirez, Index: 0, Length: 14\n",
      "Palindrome: aoxomoxoa, Index: 19, Length: 9\n",
      "Palindrome: 343, Index: 15, Length: 3\n",
      "\n"
     ]
    }
   ],
   "source": [
    "for t in test_inputs:\n",
    "    print('Input string:')\n",
    "    print(t)\n",
    "    print(\"\\nOutput:\")\n",
    "    palindrome_result = q1_function(t)\n",
    "    \n",
    "    for i in palindrome_result:\n",
    "        idx = t.index(i)\n",
    "        length = len(i)\n",
    "        print(f\"Palindrome: {i}, Index: {idx}, Length: {length}\")\n",
    "    \n",
    "    if len(palindrome_result) == 0:\n",
    "        print(\"No palindrome exists.\")\n",
    "    print()"
   ]
  },
  {
   "cell_type": "code",
   "execution_count": 7,
   "metadata": {
    "colab": {
     "base_uri": "https://localhost:8080/"
    },
    "executionInfo": {
     "elapsed": 19740,
     "status": "ok",
     "timestamp": 1679210902858,
     "user": {
      "displayName": "Yow Si Tian",
      "userId": "04410998738725330930"
     },
     "user_tz": -480
    },
    "id": "jAwZl_5DnjDq",
    "outputId": "7332fdac-9416-4f0e-f082-188ac02b6c3f"
   },
   "outputs": [
    {
     "name": "stdout",
     "output_type": "stream",
     "text": [
      "Input string:\n",
      "zerimarramirez2343!aoxomoxoa\n",
      "\n",
      "Output:\n",
      "Palindrome: zerimarramirez, Index: 0, Length: 14\n",
      "Palindrome: aoxomoxoa, Index: 19, Length: 9\n",
      "Palindrome: 343, Index: 15, Length: 3\n",
      "\n",
      "Input string:\n",
      "-1\n"
     ]
    }
   ],
   "source": [
    "print('Input string:')\n",
    "original_text = input()\n",
    "\n",
    "while original_text != \"-1\":\n",
    "    print(\"\\nOutput:\")\n",
    "    palindrome_result = q1_function(original_text)\n",
    "    for i in palindrome_result:\n",
    "        idx = original_text.index(i)\n",
    "        length = len(i)\n",
    "        print(f\"Palindrome: {i}, Index: {idx}, Length: {length}\")\n",
    "        \n",
    "    if len(palindrome_result) == 0:\n",
    "        print(\"No palindrome exists.\")\n",
    "        \n",
    "    print('\\nInput string:')\n",
    "    original_text = input()"
   ]
  }
 ],
 "metadata": {
  "colab": {
   "authorship_tag": "ABX9TyNhJfXP03l2EyN2jReJv0YC",
   "provenance": []
  },
  "kernelspec": {
   "display_name": "Python 3 (ipykernel)",
   "language": "python",
   "name": "python3"
  },
  "language_info": {
   "codemirror_mode": {
    "name": "ipython",
    "version": 3
   },
   "file_extension": ".py",
   "mimetype": "text/x-python",
   "name": "python",
   "nbconvert_exporter": "python",
   "pygments_lexer": "ipython3",
   "version": "3.9.12"
  }
 },
 "nbformat": 4,
 "nbformat_minor": 1
}
